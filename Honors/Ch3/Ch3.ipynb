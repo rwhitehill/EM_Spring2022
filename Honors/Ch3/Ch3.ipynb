{
 "cells": [
  {
   "cell_type": "code",
   "execution_count": 1,
   "id": "831a836e-b42a-441e-8d86-85d61eb841b8",
   "metadata": {},
   "outputs": [],
   "source": [
    "import numpy as np\n",
    "import matplotlib.pyplot as plt\n",
    "import matplotlib.animation as animation\n",
    "from matplotlib.animation import FuncAnimation\n",
    "# from numba import jit\n",
    "\n",
    "from matplotlib import rcParams \n",
    "rcParams['text.latex.preamble'] = r'\\usepackage{amsmath}' \n",
    "rcParams['text.usetex']         = True \n",
    "rcParams['font.family']         = 'sans-serif' \n",
    "rcParams['font.sans-serif']     = ['Helvetica']\n",
    "rcParams['animation.html']      = 'html5'\n",
    "\n",
    "%matplotlib inline"
   ]
  },
  {
   "cell_type": "markdown",
   "id": "342dc839-af3b-4392-9bd9-aa74ca8b339d",
   "metadata": {},
   "source": [
    "### Problem 3.13"
   ]
  },
  {
   "cell_type": "code",
   "execution_count": null,
   "id": "9e68cc86-4528-4ded-9897-32e510f33a47",
   "metadata": {},
   "outputs": [],
   "source": [
    "def V(x,y,N=100):\n",
    "    ## unitless: V = V(x,y)/V_0 | x,y = x,y/a \n",
    "    V = 0\n",
    "    for n in range(N):\n",
    "        V += np.exp(-(2*n+1)*np.pi*x)*np.sin((2*n+1)*np.pi*y)/(2*n+1)\n",
    "        # V += np.exp(-(4*n+2)*np.pi*x)*np.sin((4*n+2)*np.pi*y)/(2*n+1)\n",
    "    V *= 4/np.pi\n",
    "    return V"
   ]
  },
  {
   "cell_type": "code",
   "execution_count": null,
   "id": "f8215976-47f0-45fd-a5eb-de84b60e9284",
   "metadata": {},
   "outputs": [],
   "source": [
    "num = 100\n",
    "x = np.linspace(0.0,0.1,num) # x: 0,infinity\n",
    "y = np.linspace(0.0,1.0,num) # y: 0,a\n",
    "X,Y = np.meshgrid(x,y)"
   ]
  },
  {
   "cell_type": "code",
   "execution_count": null,
   "id": "09f78b93-6c46-42cc-8cfb-faea53fba441",
   "metadata": {},
   "outputs": [],
   "source": [
    "def plot3d(X,Y,N):\n",
    "    fig, ax = plt.subplots(1,1,figsize=(7,7),subplot_kw=dict(projection='3d'))\n",
    "\n",
    "    Z = V(X,Y,N)\n",
    "    ax.plot_surface(X,Y,Z,cmap=plt.cm.coolwarm)\n",
    "\n",
    "    ax.set_title(r'$N=%d$'%N,size=20)\n",
    "    ax.set_xlabel(r'$x/a$',size=20,labelpad=15)\n",
    "    ax.set_ylabel(r'$y/a$',size=20,labelpad=10)\n",
    "    ax.set_zlabel(r'$V/V_0$',size=20,labelpad=10,rotation=45)\n",
    "    ax.zaxis.set_rotate_label(False)\n",
    "    \n",
    "    ax.tick_params(axis='both',which='major',labelsize=20,direction='in')\n",
    "    ax.view_init(30, 30)\n",
    "    \n",
    "    # plt.savefig('./plots/prob3-13_%d.png'%N,bbox_inches='tight')\n",
    "    plt.show()"
   ]
  },
  {
   "cell_type": "code",
   "execution_count": null,
   "id": "dcdc349c-4b75-4815-ab03-2936605f4eca",
   "metadata": {},
   "outputs": [],
   "source": [
    "fps = 10\n",
    "frn = 100\n",
    "zarray = np.zeros([num,num,frn])\n",
    "\n",
    "for i in range(1,frn+1):\n",
    "    zarray[:,:,i-1] = V(X,Y,N=i)"
   ]
  },
  {
   "cell_type": "code",
   "execution_count": null,
   "id": "ef7a131b-fc4c-4b02-853a-dd2ce455ba30",
   "metadata": {},
   "outputs": [],
   "source": [
    "def update_plot(frame_number,zarray,plot):\n",
    "    plot[0].remove()\n",
    "    plot[0] = ax.plot_surface(X,Y,zarray[:,:,frame_number],cmap=plt.cm.coolwarm)\n",
    "    plot[1] = ax.set_title(r'$N=%d$'%frame_number,size=20)\n",
    "    \n",
    "fig, ax = plt.subplots(1,1,figsize=(7,7),subplot_kw=dict(projection='3d'))\n",
    "ax.set_xlim(min(x),max(x))\n",
    "ax.set_ylim(min(y),max(y))\n",
    "ax.set_zlim(-1.3,1.3)\n",
    "ax.zaxis.set_rotate_label(False)\n",
    "ax.view_init(30,30)\n",
    "\n",
    "ax.set_xlabel(r'$x/a$',size=20,labelpad=15)\n",
    "ax.set_ylabel(r'$y/a$',size=20,labelpad=10)\n",
    "ax.set_zlabel(r'$V/V_0$',size=20,labelpad=10)\n",
    "\n",
    "ax.tick_params(axis='both',which='major',labelsize=20,direction='in')\n",
    "\n",
    "plot = [ax.plot_surface(X,Y,zarray[:,:,0],cmap=plt.cm.coolwarm,rstride=1,cstride=1),\n",
    "        ax.set_title(r'$N=%d$'%1,size=20)]\n",
    "ani = animation.FuncAnimation(fig,update_plot,frn,fargs=(zarray,plot),interval=1000/fps)"
   ]
  },
  {
   "cell_type": "code",
   "execution_count": null,
   "id": "a27e2af8-bc0e-4ecd-8e04-9f90b9a2b58f",
   "metadata": {},
   "outputs": [],
   "source": [
    "name = './plots/animation'\n",
    "ani.save(name+'.gif',writer='imagemagick',fps=fps)"
   ]
  },
  {
   "cell_type": "code",
   "execution_count": null,
   "id": "779e1c86-031d-474a-93fb-f8dfa468af28",
   "metadata": {},
   "outputs": [],
   "source": [
    "%%bash\n",
    "convert ./plots/animation.gif -fuzz 5%% -layers Optimize ./plots/animation.gif"
   ]
  },
  {
   "cell_type": "markdown",
   "id": "274a7ec7-c9e7-4fd4-977b-548863a50dd0",
   "metadata": {},
   "source": [
    "### Problem 3.16"
   ]
  },
  {
   "cell_type": "code",
   "execution_count": null,
   "id": "8856895c-f1b2-4625-97cc-50f5be388d35",
   "metadata": {},
   "outputs": [],
   "source": [
    "def V(x,y,z=0.5,N=50,M=50):\n",
    "    V = 0\n",
    "    for n in range(N+1):\n",
    "        v = 0\n",
    "        for m in range(M+1):\n",
    "            v += np.sin((2*m+1)*np.pi*y)*np.sinh(np.pi*np.sqrt((2*n+1)**2+(2*m+1)**2)*z)/np.sinh(np.pi*np.sqrt((2*n+1)**2+(2*m+1)**2))/(2*m+1)\n",
    "        v *= np.sin((2*n+1)*np.pi*x)/(2*n+1)\n",
    "        V += v\n",
    "    V *= 16/np.pi**2\n",
    "    return V"
   ]
  },
  {
   "cell_type": "code",
   "execution_count": null,
   "id": "9026157b-e019-450d-a0f0-457b7be3700f",
   "metadata": {},
   "outputs": [],
   "source": [
    "num = 100\n",
    "x = np.linspace(0.0,1.0,num) # x: 0,infinity\n",
    "y = np.linspace(0.0,1.0,num) # y: 0,a\n",
    "X,Y = np.meshgrid(x,y)"
   ]
  },
  {
   "cell_type": "code",
   "execution_count": null,
   "id": "2fb70b0e-2870-4942-bae6-f9636d38e38d",
   "metadata": {},
   "outputs": [],
   "source": [
    "def plot3d(X,Y,z):\n",
    "    fig, ax = plt.subplots(1,1,figsize=(7,7),subplot_kw=dict(projection='3d'))\n",
    "\n",
    "    ax.plot_surface(X,Y,V(X,Y,z),cmap=plt.cm.coolwarm)\n",
    "\n",
    "    ax.set_title(r'$z=%.1f$'%z,size=20)\n",
    "    ax.set_xlabel(r'$x/a$',size=20,labelpad=15)\n",
    "    ax.set_ylabel(r'$y/a$',size=20,labelpad=10)\n",
    "    ax.set_zlabel(r'$V/V_0$',size=20,labelpad=20,rotation=45)\n",
    "    ax.zaxis.set_rotate_label(False)\n",
    "    \n",
    "    ax.tick_params(axis='both',which='major',labelsize=20,direction='in')\n",
    "    ax.view_init(30, -60)\n",
    "    \n",
    "    plt.savefig('./plots/prob3-16_%s.png'%str(round(z,2)).replace('.','-'),bbox_inches='tight')\n",
    "    plt.show()"
   ]
  },
  {
   "cell_type": "code",
   "execution_count": null,
   "id": "a1e83423-7488-4ac9-984a-7719d9337b6e",
   "metadata": {},
   "outputs": [],
   "source": [
    "z = np.linspace(0.0,1.0,6)\n",
    "print(z)\n",
    "for _ in z:\n",
    "    plot3d(X,Y,_)"
   ]
  },
  {
   "cell_type": "code",
   "execution_count": null,
   "id": "ab672f80-062c-4712-8467-eeb9b281e88f",
   "metadata": {},
   "outputs": [],
   "source": [
    "def summ(x):\n",
    "    res = 0\n",
    "    for n in range(10):\n",
    "        res += np.sin((2*n+1)*x)/(2*n+1)\n",
    "    return res*4/np.pi\n",
    "print(summ(np.linspace(0.0,1.0,10))**2)"
   ]
  },
  {
   "cell_type": "markdown",
   "id": "68e2e7ba-c22a-4eef-82bf-e04eda3d6329",
   "metadata": {},
   "source": [
    "### Finite Difference and Relaxation"
   ]
  },
  {
   "cell_type": "code",
   "execution_count": 2,
   "id": "fa082d1c-0f91-4165-a51f-02b16c2b0333",
   "metadata": {},
   "outputs": [],
   "source": [
    "# @jit(nopython=True)\n",
    "def update(V):\n",
    "    V_new = np.copy(V)\n",
    "    shape = np.shape(V)\n",
    "    h = X[0,1]-X[0,0]\n",
    "    for i in range(1,shape[0]-1):\n",
    "        for j in range(1,shape[1]-1):\n",
    "            if (Y[i,j] >= 0.25 and Y[i,j] <= 0.75) and ((X[i,j] >= 0.2 and X[i,j] <= 0.3) or (X[i,j] >= 0.7 and X[i,j] <= 0.8)):\n",
    "                continue\n",
    "            V_new[i,j] = (V[i+1,j] + V[i-1,j] + V[i,j+1] + V[i,j-1])/4.0\n",
    "            # print(rho(X[i,j],Y[i,j]))\n",
    "    return V_new"
   ]
  },
  {
   "cell_type": "code",
   "execution_count": 3,
   "id": "c32876fe-3e4a-4630-af4f-433c6a9cc865",
   "metadata": {},
   "outputs": [],
   "source": [
    "def plot3d(X,Y,V,N=-1):\n",
    "    fig, ax = plt.subplots(1,1,figsize=(7,7),subplot_kw=dict(projection='3d'))\n",
    "\n",
    "    ax.plot_surface(X,Y,V,cmap=plt.cm.coolwarm)\n",
    "\n",
    "    ax.set_xlabel(r'$x/a$',size=20,labelpad=15)\n",
    "    ax.set_ylabel(r'$y/a$',size=20,labelpad=10)\n",
    "    ax.set_zlabel(r'$V/V_0$',size=20,labelpad=15,rotation=45)\n",
    "    ax.zaxis.set_rotate_label(False)\n",
    "    if N >= 0:\n",
    "        ax.set_title(r'$N=%d$'%N,size=20)\n",
    "    ax.set_title('Parallel plate capacitor',size=30)\n",
    "    \n",
    "    ax.tick_params(axis='both',which='major',labelsize=20,direction='in')\n",
    "    ax.view_init(30,30)\n",
    "    \n",
    "    # plt.savefig('./plots/prob3-13_%d.png'%N,bbox_inches='tight')\n",
    "    plt.show()"
   ]
  },
  {
   "cell_type": "code",
   "execution_count": 4,
   "id": "f9119fdd-4f88-4ad2-9717-78b599f099db",
   "metadata": {},
   "outputs": [
    {
     "name": "stdout",
     "output_type": "stream",
     "text": [
      "21\n"
     ]
    },
    {
     "data": {
      "image/png": "[encoded data removed]",
      "text/plain": [
       "<Figure size 504x504 with 1 Axes>"
      ]
     },
     "metadata": {
      "needs_background": "light"
     },
     "output_type": "display_data"
    }
   ],
   "source": [
    "N = 8 # defines grid spacing\n",
    "x = np.linspace(0.0,1.0,N)\n",
    "y = np.linspace(0.0,1.0,N)\n",
    "\n",
    "X,Y = np.meshgrid(x,y)\n",
    "V = np.zeros(np.shape(X))\n",
    "\n",
    "def initial(x,y):\n",
    "    if (y >= 0.25 and y <= 0.75):\n",
    "        if (x >= 0.2 and x <= 0.3):\n",
    "            return 1.0\n",
    "        elif x >= 0.7 and x <= 0.8:\n",
    "            return -1.0\n",
    "        else:\n",
    "            return 0.0\n",
    "    else:\n",
    "        return 0.0\n",
    "    \n",
    "def set_initial(shape):\n",
    "    V = np.zeros(shape)\n",
    "    for i in range(shape[0]):\n",
    "        for j in range(shape[1]):\n",
    "            V[i,j] = initial(X[i,j],Y[i,j])\n",
    "    return V\n",
    "\n",
    "V = set_initial(np.shape(X))\n",
    "# plot3d(X,Y,V)\n",
    "# print(X)\n",
    "# print(Y)\n",
    "# print(V)\n",
    "\n",
    "i = 0\n",
    "while True:\n",
    "    i += 1\n",
    "    V_new = update(V)\n",
    "    if np.all(abs(V_new - V) < 1e-5):\n",
    "        print(i)\n",
    "        break\n",
    "    V = V_new\n",
    "plot3d(X,Y,V)"
   ]
  },
  {
   "cell_type": "code",
   "execution_count": 5,
   "id": "cc9e3576-35b8-4e1c-8f9c-1b9cb95de447",
   "metadata": {},
   "outputs": [],
   "source": [
    "# @jit(nopython=True)\n",
    "def gradient(array):\n",
    "    shape = np.shape(array)\n",
    "    E_x = np.zeros(shape)\n",
    "    E_y = np.zeros(shape)\n",
    "    grid_spacing = abs(X[0,1]-X[0,0])\n",
    "    for i in range(shape[0]):\n",
    "        for j in range(shape[1]):\n",
    "            if j == 0: \n",
    "                E_x[i,j] = -(array[i,j+1]-array[i,j])/grid_spacing\n",
    "            elif j == shape[1]-1:\n",
    "                E_x[i,j] = -(array[i,j]-array[i,j-1])/grid_spacing\n",
    "            else:\n",
    "                E_x[i,j] = -(array[i,j+1] - array[i,j-1])/2.0/grid_spacing\n",
    "    for i in range(shape[0]):\n",
    "        for j in range(shape[1]):\n",
    "            if i == 0: \n",
    "                E_x[i,j] = -(array[i+1,j]-array[i,j])/grid_spacing\n",
    "            elif i == shape[1]-1:\n",
    "                E_x[i,j] = -(array[i,j]-array[i-1,j])/grid_spacing\n",
    "            else:\n",
    "                E_y[i,j] = -(array[i+1,j] - array[i-1,j])/2.0/grid_spacing\n",
    "    return E_x,E_y"
   ]
  },
  {
   "cell_type": "code",
   "execution_count": 6,
   "id": "4c121655-4625-40b7-a6fe-785e470dffd6",
   "metadata": {},
   "outputs": [],
   "source": [
    "Ex_vac,Ey_vac = gradient(V)"
   ]
  },
  {
   "cell_type": "code",
   "execution_count": 7,
   "id": "c3ec3568-112c-4b4a-9ea7-0a78ab30674c",
   "metadata": {},
   "outputs": [],
   "source": [
    "# plt.quiver(X,Y,Ex_vac,Ey_vac)"
   ]
  },
  {
   "cell_type": "code",
   "execution_count": 95,
   "id": "bbd4f918-ddd4-4690-843b-7e9b6cc6064a",
   "metadata": {},
   "outputs": [],
   "source": [
    "def eps_rel(x,y):\n",
    "    if (y >= 0.25 and y <= 0.75) and ((x >= 0.2 and x <= 0.3) or (x >= 0.7 and x <= 0.8)):\n",
    "        return 1.0\n",
    "    else:\n",
    "        return 3.0\n",
    "    # if (y >= 0.25 and y <= 0.75) and (x >= 0.3 and x <= 0.7):\n",
    "    #         return 2.0\n",
    "    # else:\n",
    "    #     return 1.0"
   ]
  },
  {
   "cell_type": "markdown",
   "id": "ba6313b8-ed7c-4a82-866e-0fe0c9c2b8ac",
   "metadata": {},
   "source": [
    "\\begin{align*}\n",
    "    V(\\vec{r}) = \\frac{1}{4 \\pi \\epsilon_0} \\int \\frac{P_x(\\vec{r}')\\Delta r_x + P_y(\\vec{r}')\\Delta r_y}{\\Delta r_x^2 + \\Delta r_y^2} dx'dy'\n",
    "\\end{align*}"
   ]
  },
  {
   "cell_type": "code",
   "execution_count": 144,
   "id": "2858df46-0b95-498a-abc4-e3721544f5bd",
   "metadata": {},
   "outputs": [],
   "source": [
    "# @jit(nopython=True)\n",
    "def V_pol(x,y,Px,Py):\n",
    "    shape = np.shape(Px)\n",
    "    V_pol = 0.0\n",
    "    grid_spacing = abs(X[0,1] - X[0,0])\n",
    "    for i in range(shape[0]):\n",
    "        for j in range(shape[1]):\n",
    "            if x == X[i,j] and y == Y[i,j]:\n",
    "                continue\n",
    "            drx = x - X[i,j]\n",
    "            dry = y - Y[i,j]\n",
    "            V_pol += (Px[i,j]*drx + Py[i,j]*dry)/(drx**2.0 + dry**2.0)**1.5#**3.0\n",
    "    factor = grid_spacing**2.0 / 4.0 / np.pi\n",
    "    return V_pol * factor"
   ]
  },
  {
   "cell_type": "code",
   "execution_count": 145,
   "id": "95caf77a-71a4-4471-aeb8-9232077ef3a4",
   "metadata": {},
   "outputs": [],
   "source": [
    "# @jit(nopython=True)\n",
    "def update_E(vac_Ex,vac_Ey,eps_rel,tol=1e-3):\n",
    "    Ex = np.copy(vac_Ex)\n",
    "    Ey = np.copy(vac_Ey)\n",
    "    Ex_new = np.copy(vac_Ex)\n",
    "    Ey_new = np.copy(vac_Ey)\n",
    "    shape = np.shape(vac_Ex)\n",
    "    Px = np.zeros(shape)\n",
    "    Py = np.zeros(shape)\n",
    "    V_p = np.zeros(shape)\n",
    "    # recall: chi = er - 1\n",
    "    iterations = 0\n",
    "    while True:\n",
    "    # for _ in range(10):\n",
    "        # print(_)\n",
    "        for i in range(shape[0]):\n",
    "            for j in range(shape[1]):\n",
    "                Px[i,j] = (eps_rel(X[i,j],Y[i,j]) - 1.0)*Ex_new[i,j]\n",
    "                Py[i,j] = (eps_rel(X[i,j],Y[i,j]) - 1.0)*Ey_new[i,j]\n",
    "        # print('Ex_new:',Ex_new,sep='\\n')\n",
    "        # print('Ey_new:',Ey_new,sep='\\n')\n",
    "        # print('Px:',Px,sep='\\n')\n",
    "        # print('Py:',Py,sep='\\n')\n",
    "        for i in range(shape[0]):\n",
    "            for j in range(shape[1]):\n",
    "                V_p[i,j]  = V_pol(X[i,j],Y[i,j],Px,Py)\n",
    "        # print('V_p/V:',V/V_p,sep='\\n')\n",
    "        Ex_new,Ey_new = gradient(V_p)\n",
    "        # print(Ex_new/Ex_vac)\n",
    "        Ex += Ex_new\n",
    "        Ey += Ey_new\n",
    "        iterations += 1\n",
    "        # print(iterations)\n",
    "        if np.all(abs(Ex_new) < tol) and np.all(abs(Ey_new) < tol):\n",
    "            break\n",
    "        # if iterations > 100:\n",
    "            # break\n",
    "    # plt.quiver(X,Y,Ex_vac,Ey_vac,color='k',scale=5,scale_units='inches')\n",
    "    # plt.quiver(X,Y,Px,Py,color='r',scale=5,scale_units='inches')\n",
    "    return Ex,Ey"
   ]
  },
  {
   "cell_type": "code",
   "execution_count": 146,
   "id": "eb2f6541-509b-4159-b32f-953843b7bb5b",
   "metadata": {},
   "outputs": [
    {
     "name": "stderr",
     "output_type": "stream",
     "text": [
      "/var/folders/_b/29vq0z955j77svdys97cr5p40000gn/T/ipykernel_78392/371432702.py:12: RuntimeWarning: overflow encountered in double_scalars\n",
      "  V_pol += (Px[i,j]*drx + Py[i,j]*dry)/(drx**2.0 + dry**2.0)**1.5#**3.0\n",
      "/var/folders/_b/29vq0z955j77svdys97cr5p40000gn/T/ipykernel_78392/761939427.py:19: RuntimeWarning: invalid value encountered in double_scalars\n",
      "  Py[i,j] = (eps_rel(X[i,j],Y[i,j]) - 1.0)*Ey_new[i,j]\n",
      "/var/folders/_b/29vq0z955j77svdys97cr5p40000gn/T/ipykernel_78392/371432702.py:12: RuntimeWarning: invalid value encountered in double_scalars\n",
      "  V_pol += (Px[i,j]*drx + Py[i,j]*dry)/(drx**2.0 + dry**2.0)**1.5#**3.0\n"
     ]
    },
    {
     "ename": "KeyboardInterrupt",
     "evalue": "",
     "output_type": "error",
     "traceback": [
      "\u001b[0;31m---------------------------------------------------------------------------\u001b[0m",
      "\u001b[0;31mKeyboardInterrupt\u001b[0m                         Traceback (most recent call last)",
      "\u001b[0;32m/var/folders/_b/29vq0z955j77svdys97cr5p40000gn/T/ipykernel_78392/2546151161.py\u001b[0m in \u001b[0;36m<module>\u001b[0;34m\u001b[0m\n\u001b[1;32m      1\u001b[0m \u001b[0;31m# np.set_printoptions(precision=3,formatter={'float': '{: 0.3f}'.format})\u001b[0m\u001b[0;34m\u001b[0m\u001b[0;34m\u001b[0m\u001b[0m\n\u001b[1;32m      2\u001b[0m \u001b[0;31m# print('V_vac:',V,sep='\\n')\u001b[0m\u001b[0;34m\u001b[0m\u001b[0;34m\u001b[0m\u001b[0m\n\u001b[0;32m----> 3\u001b[0;31m \u001b[0mEx\u001b[0m\u001b[0;34m,\u001b[0m\u001b[0mEy\u001b[0m \u001b[0;34m=\u001b[0m \u001b[0mupdate_E\u001b[0m\u001b[0;34m(\u001b[0m\u001b[0mEx_vac\u001b[0m\u001b[0;34m,\u001b[0m\u001b[0mEy_vac\u001b[0m\u001b[0;34m,\u001b[0m\u001b[0meps_rel\u001b[0m\u001b[0;34m)\u001b[0m\u001b[0;34m\u001b[0m\u001b[0;34m\u001b[0m\u001b[0m\n\u001b[0m",
      "\u001b[0;32m/var/folders/_b/29vq0z955j77svdys97cr5p40000gn/T/ipykernel_78392/761939427.py\u001b[0m in \u001b[0;36mupdate_E\u001b[0;34m(vac_Ex, vac_Ey, eps_rel, tol)\u001b[0m\n\u001b[1;32m     24\u001b[0m         \u001b[0;32mfor\u001b[0m \u001b[0mi\u001b[0m \u001b[0;32min\u001b[0m \u001b[0mrange\u001b[0m\u001b[0;34m(\u001b[0m\u001b[0mshape\u001b[0m\u001b[0;34m[\u001b[0m\u001b[0;36m0\u001b[0m\u001b[0;34m]\u001b[0m\u001b[0;34m)\u001b[0m\u001b[0;34m:\u001b[0m\u001b[0;34m\u001b[0m\u001b[0;34m\u001b[0m\u001b[0m\n\u001b[1;32m     25\u001b[0m             \u001b[0;32mfor\u001b[0m \u001b[0mj\u001b[0m \u001b[0;32min\u001b[0m \u001b[0mrange\u001b[0m\u001b[0;34m(\u001b[0m\u001b[0mshape\u001b[0m\u001b[0;34m[\u001b[0m\u001b[0;36m1\u001b[0m\u001b[0;34m]\u001b[0m\u001b[0;34m)\u001b[0m\u001b[0;34m:\u001b[0m\u001b[0;34m\u001b[0m\u001b[0;34m\u001b[0m\u001b[0m\n\u001b[0;32m---> 26\u001b[0;31m                 \u001b[0mV_p\u001b[0m\u001b[0;34m[\u001b[0m\u001b[0mi\u001b[0m\u001b[0;34m,\u001b[0m\u001b[0mj\u001b[0m\u001b[0;34m]\u001b[0m  \u001b[0;34m=\u001b[0m \u001b[0mV_pol\u001b[0m\u001b[0;34m(\u001b[0m\u001b[0mX\u001b[0m\u001b[0;34m[\u001b[0m\u001b[0mi\u001b[0m\u001b[0;34m,\u001b[0m\u001b[0mj\u001b[0m\u001b[0;34m]\u001b[0m\u001b[0;34m,\u001b[0m\u001b[0mY\u001b[0m\u001b[0;34m[\u001b[0m\u001b[0mi\u001b[0m\u001b[0;34m,\u001b[0m\u001b[0mj\u001b[0m\u001b[0;34m]\u001b[0m\u001b[0;34m,\u001b[0m\u001b[0mPx\u001b[0m\u001b[0;34m,\u001b[0m\u001b[0mPy\u001b[0m\u001b[0;34m)\u001b[0m\u001b[0;34m\u001b[0m\u001b[0;34m\u001b[0m\u001b[0m\n\u001b[0m\u001b[1;32m     27\u001b[0m         \u001b[0;31m# print('V_p/V:',V/V_p,sep='\\n')\u001b[0m\u001b[0;34m\u001b[0m\u001b[0;34m\u001b[0m\u001b[0m\n\u001b[1;32m     28\u001b[0m         \u001b[0mEx_new\u001b[0m\u001b[0;34m,\u001b[0m\u001b[0mEy_new\u001b[0m \u001b[0;34m=\u001b[0m \u001b[0mgradient\u001b[0m\u001b[0;34m(\u001b[0m\u001b[0mV_p\u001b[0m\u001b[0;34m)\u001b[0m\u001b[0;34m\u001b[0m\u001b[0;34m\u001b[0m\u001b[0m\n",
      "\u001b[0;32m/var/folders/_b/29vq0z955j77svdys97cr5p40000gn/T/ipykernel_78392/371432702.py\u001b[0m in \u001b[0;36mV_pol\u001b[0;34m(x, y, Px, Py)\u001b[0m\n\u001b[1;32m     10\u001b[0m             \u001b[0mdrx\u001b[0m \u001b[0;34m=\u001b[0m \u001b[0mx\u001b[0m \u001b[0;34m-\u001b[0m \u001b[0mX\u001b[0m\u001b[0;34m[\u001b[0m\u001b[0mi\u001b[0m\u001b[0;34m,\u001b[0m\u001b[0mj\u001b[0m\u001b[0;34m]\u001b[0m\u001b[0;34m\u001b[0m\u001b[0;34m\u001b[0m\u001b[0m\n\u001b[1;32m     11\u001b[0m             \u001b[0mdry\u001b[0m \u001b[0;34m=\u001b[0m \u001b[0my\u001b[0m \u001b[0;34m-\u001b[0m \u001b[0mY\u001b[0m\u001b[0;34m[\u001b[0m\u001b[0mi\u001b[0m\u001b[0;34m,\u001b[0m\u001b[0mj\u001b[0m\u001b[0;34m]\u001b[0m\u001b[0;34m\u001b[0m\u001b[0;34m\u001b[0m\u001b[0m\n\u001b[0;32m---> 12\u001b[0;31m             \u001b[0mV_pol\u001b[0m \u001b[0;34m+=\u001b[0m \u001b[0;34m(\u001b[0m\u001b[0mPx\u001b[0m\u001b[0;34m[\u001b[0m\u001b[0mi\u001b[0m\u001b[0;34m,\u001b[0m\u001b[0mj\u001b[0m\u001b[0;34m]\u001b[0m\u001b[0;34m*\u001b[0m\u001b[0mdrx\u001b[0m \u001b[0;34m+\u001b[0m \u001b[0mPy\u001b[0m\u001b[0;34m[\u001b[0m\u001b[0mi\u001b[0m\u001b[0;34m,\u001b[0m\u001b[0mj\u001b[0m\u001b[0;34m]\u001b[0m\u001b[0;34m*\u001b[0m\u001b[0mdry\u001b[0m\u001b[0;34m)\u001b[0m\u001b[0;34m/\u001b[0m\u001b[0;34m(\u001b[0m\u001b[0mdrx\u001b[0m\u001b[0;34m**\u001b[0m\u001b[0;36m2.0\u001b[0m \u001b[0;34m+\u001b[0m \u001b[0mdry\u001b[0m\u001b[0;34m**\u001b[0m\u001b[0;36m2.0\u001b[0m\u001b[0;34m)\u001b[0m\u001b[0;34m**\u001b[0m\u001b[0;36m1.5\u001b[0m\u001b[0;31m#**3.0\u001b[0m\u001b[0;34m\u001b[0m\u001b[0;34m\u001b[0m\u001b[0m\n\u001b[0m\u001b[1;32m     13\u001b[0m     \u001b[0mfactor\u001b[0m \u001b[0;34m=\u001b[0m \u001b[0mgrid_spacing\u001b[0m\u001b[0;34m**\u001b[0m\u001b[0;36m2.0\u001b[0m \u001b[0;34m/\u001b[0m \u001b[0;36m4.0\u001b[0m \u001b[0;34m/\u001b[0m \u001b[0mnp\u001b[0m\u001b[0;34m.\u001b[0m\u001b[0mpi\u001b[0m\u001b[0;34m\u001b[0m\u001b[0;34m\u001b[0m\u001b[0m\n\u001b[1;32m     14\u001b[0m     \u001b[0;32mreturn\u001b[0m \u001b[0mV_pol\u001b[0m \u001b[0;34m*\u001b[0m \u001b[0mfactor\u001b[0m\u001b[0;34m\u001b[0m\u001b[0;34m\u001b[0m\u001b[0m\n",
      "\u001b[0;31mKeyboardInterrupt\u001b[0m: "
     ]
    }
   ],
   "source": [
    "# np.set_printoptions(precision=3,formatter={'float': '{: 0.3f}'.format})\n",
    "# print('V_vac:',V,sep='\\n')\n",
    "Ex,Ey = update_E(Ex_vac,Ey_vac,eps_rel)"
   ]
  },
  {
   "cell_type": "code",
   "execution_count": null,
   "id": "bdf2565f-258f-49ec-ac0b-8f4a9f4b8957",
   "metadata": {},
   "outputs": [],
   "source": [
    "# cond = (X >= 0.3) and (X <= 0.7) and (Y >= 0.25) and (Y <= 0.75)\n",
    "# (Ex/Ex_vac)#[X >= 0.3 and X <= 0.7 and Y >= 0.25 and Y <= 0.75]"
   ]
  },
  {
   "cell_type": "code",
   "execution_count": null,
   "id": "d1df5339-08cd-4d3b-a936-ee892377eafb",
   "metadata": {},
   "outputs": [],
   "source": [
    "nrows=1;ncols=2\n",
    "fig,ax = plt.subplots(nrows=nrows,ncols=ncols,figsize=(7*ncols,7*nrows))\n",
    "\n",
    "ax[0].quiver(X,Y,Ex_vac,Ey_vac)\n",
    "ax[1].quiver(X,Y,Ex,Ey)\n",
    "ax[0].set_ylabel(r'$y/a$',size=20)\n",
    "for i in range(2):\n",
    "    ax[i].set_xlabel(r'$x/a$',size=20)\n",
    "    ax[i].tick_params(axis='both',which='major',labelsize=20,direction='in')\n",
    "ax[0].set_title('Vacuum Field',size=20)\n",
    "ax[1].set_title(r'$\\epsilon_r = 3.5$',size=20)\n",
    "\n",
    "plt.tight_layout()\n",
    "# plt.savefig('./plots/E_field-er_3.png',bbox_inches='tight')\n",
    "plt.show()"
   ]
  },
  {
   "cell_type": "code",
   "execution_count": null,
   "id": "6e77ce82-cc6a-4cdd-9eb9-75df210cc1ac",
   "metadata": {},
   "outputs": [],
   "source": []
  }
 ],
 "metadata": {
  "kernelspec": {
   "display_name": "Python 3 (ipykernel)",
   "language": "python",
   "name": "python3"
  },
  "language_info": {
   "codemirror_mode": {
    "name": "ipython",
    "version": 3
   },
   "file_extension": ".py",
   "mimetype": "text/x-python",
   "name": "python",
   "nbconvert_exporter": "python",
   "pygments_lexer": "ipython3",
   "version": "3.9.7"
  }
 },
 "nbformat": 4,
 "nbformat_minor": 5
}
