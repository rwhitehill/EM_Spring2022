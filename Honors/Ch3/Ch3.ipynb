{
 "cells": [
  {
   "cell_type": "code",
   "execution_count": null,
   "id": "831a836e-b42a-441e-8d86-85d61eb841b8",
   "metadata": {},
   "outputs": [],
   "source": [
    "import numpy as np\n",
    "import matplotlib.pyplot as plt\n",
    "import matplotlib.animation as animation\n",
    "from matplotlib.animation import FuncAnimation\n",
    "\n",
    "from matplotlib import rcParams \n",
    "rcParams['text.latex.preamble'] = r'\\usepackage{amsmath}' \n",
    "rcParams['text.usetex']         = True \n",
    "rcParams['font.family']         = 'sans-serif' \n",
    "rcParams['font.sans-serif']     = ['Helvetica']\n",
    "rcParams['animation.html']      = 'html5'\n",
    "\n",
    "%matplotlib inline"
   ]
  },
  {
   "cell_type": "markdown",
   "id": "342dc839-af3b-4392-9bd9-aa74ca8b339d",
   "metadata": {},
   "source": [
    "### Problem 3.13"
   ]
  },
  {
   "cell_type": "code",
   "execution_count": null,
   "id": "9e68cc86-4528-4ded-9897-32e510f33a47",
   "metadata": {},
   "outputs": [],
   "source": [
    "def V(x,y,N=100):\n",
    "    ## unitless: V = V(x,y)/V_0 | x,y = x,y/a \n",
    "    V = 0\n",
    "    for n in range(0,N):\n",
    "        # V += np.exp(-(2*n+1)*np.pi*x)*np.sin((2*n+1)*np.pi*y)/(2*n+1)\n",
    "        V += np.exp(-(4*n+2)*np.pi*x)*np.sin((4*n+2)*np.pi*y)/(2*n+1)\n",
    "    V *= 4/np.pi\n",
    "    return V"
   ]
  },
  {
   "cell_type": "code",
   "execution_count": null,
   "id": "f8215976-47f0-45fd-a5eb-de84b60e9284",
   "metadata": {},
   "outputs": [],
   "source": [
    "num = 100\n",
    "x = np.linspace(0,0.1,num) # x: 0,infinity\n",
    "y = np.linspace(0,1,num) # y: 0,a\n",
    "X,Y = np.meshgrid(x,y)"
   ]
  },
  {
   "cell_type": "code",
   "execution_count": null,
   "id": "09f78b93-6c46-42cc-8cfb-faea53fba441",
   "metadata": {},
   "outputs": [],
   "source": [
    "def plot3d(X,Y,N):\n",
    "    fig, ax = plt.subplots(1,1,figsize=(7,7),subplot_kw=dict(projection='3d'))\n",
    "\n",
    "    Z = V(X,Y,N)\n",
    "    ax.plot_surface(X,Y,Z,cmap=plt.cm.coolwarm)\n",
    "\n",
    "    ax.set_title(r'$N=%d$'%N,size=20)\n",
    "    ax.set_xlabel(r'$x/a$',size=20,labelpad=15)\n",
    "    ax.set_ylabel(r'$y/a$',size=20,labelpad=10)\n",
    "    ax.set_zlabel(r'$V/V_0$',size=20,rotation=45)\n",
    "    ax.zaxis.set_rotate_label(False)\n",
    "    \n",
    "    ax.tick_params(axis='both',which='major',labelsize=20,direction='in')\n",
    "    ax.view_init(30, 30)\n",
    "    \n",
    "    plt.savefig('./plots/prob3-13_%d.png'%N,bbox_inches='tight')\n",
    "    # plt.show()"
   ]
  },
  {
   "cell_type": "code",
   "execution_count": null,
   "id": "a1e83423-7488-4ac9-984a-7719d9337b6e",
   "metadata": {},
   "outputs": [],
   "source": [
    "N = np.array([1,5,10,20,100])\n",
    "for _ in N:\n",
    "    plot3d(X,Y,_)"
   ]
  },
  {
   "cell_type": "code",
   "execution_count": null,
   "id": "dcdc349c-4b75-4815-ab03-2936605f4eca",
   "metadata": {},
   "outputs": [],
   "source": [
    "fps = 10\n",
    "frn = 100\n",
    "zarray = np.zeros([num,num,frn])\n",
    "\n",
    "for i in range(1,frn+1):\n",
    "    zarray[:,:,i-1] = V(X,Y,N=i)"
   ]
  },
  {
   "cell_type": "code",
   "execution_count": null,
   "id": "ef7a131b-fc4c-4b02-853a-dd2ce455ba30",
   "metadata": {},
   "outputs": [],
   "source": [
    "def update_plot(frame_number,zarray,plot):\n",
    "    plot[0].remove()\n",
    "    plot[0] = ax.plot_surface(X,Y,zarray[:,:,frame_number],cmap=plt.cm.coolwarm)\n",
    "    plot[1] = ax.set_title(r'$N=%d$'%frame_number,size=20)\n",
    "    \n",
    "fig, ax = plt.subplots(1,1,figsize=(7,7),subplot_kw=dict(projection='3d'))\n",
    "ax.set_xlim(min(x),max(x))\n",
    "ax.set_ylim(min(y),max(y))\n",
    "ax.set_zlim(-1.3,1.3)\n",
    "ax.zaxis.set_rotate_label(False)\n",
    "ax.view_init(30,30)\n",
    "\n",
    "ax.set_xlabel(r'$x/a$',size=20,labelpad=15)\n",
    "ax.set_ylabel(r'$y/a$',size=20,labelpad=10)\n",
    "ax.set_zlabel(r'$V/V_0$',size=20,labelpad=10)\n",
    "\n",
    "ax.tick_params(axis='both',which='major',labelsize=20,direction='in')\n",
    "\n",
    "plot = [ax.plot_surface(X,Y,zarray[:,:,0],cmap=plt.cm.coolwarm,rstride=1,cstride=1),\n",
    "        ax.set_title(r'$N=%d$'%1,size=20)]\n",
    "ani = animation.FuncAnimation(fig,update_plot,frn,fargs=(zarray,plot),interval=1000/fps)"
   ]
  },
  {
   "cell_type": "code",
   "execution_count": null,
   "id": "a27e2af8-bc0e-4ecd-8e04-9f90b9a2b58f",
   "metadata": {},
   "outputs": [],
   "source": [
    "name = './plots/animation'\n",
    "ani.save(name+'.gif',writer='imagemagick',fps=fps)"
   ]
  },
  {
   "cell_type": "code",
   "execution_count": null,
   "id": "779e1c86-031d-474a-93fb-f8dfa468af28",
   "metadata": {},
   "outputs": [],
   "source": [
    "%%bash\n",
    "convert ./plots/animation.gif -fuzz 5%% -layers Optimize ./plots/animation.gif"
   ]
  },
  {
   "cell_type": "code",
   "execution_count": null,
   "id": "f992f685-aece-4f7f-8e53-c4864ad2c2a2",
   "metadata": {},
   "outputs": [],
   "source": []
  }
 ],
 "metadata": {
  "kernelspec": {
   "display_name": "Python 3 (ipykernel)",
   "language": "python",
   "name": "python3"
  },
  "language_info": {
   "codemirror_mode": {
    "name": "ipython",
    "version": 3
   },
   "file_extension": ".py",
   "mimetype": "text/x-python",
   "name": "python",
   "nbconvert_exporter": "python",
   "pygments_lexer": "ipython3",
   "version": "3.8.10"
  }
 },
 "nbformat": 4,
 "nbformat_minor": 5
}
